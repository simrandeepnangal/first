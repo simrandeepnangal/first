{
 "cells": [
  {
   "cell_type": "code",
   "execution_count": 1,
   "id": "6ff11603",
   "metadata": {},
   "outputs": [
    {
     "name": "stdout",
     "output_type": "stream",
     "text": [
      "write the stringabcdefghijklmnopqrstuvxyz\n",
      "yes\n"
     ]
    }
   ],
   "source": [
    "import string\n",
    "def pangram(str):\n",
    "    alphabet=\"abcdefghijklmnopqrstuvwxyz\"\n",
    "    for a in alphabet:\n",
    "        if a not in alphabet:\n",
    "            return false\n",
    "    return True\n",
    "string=input(\"write the string\")\n",
    "if(pangram(string)==True):\n",
    "    print(\"yes\")\n",
    "else:\n",
    "    print(\"no\")"
   ]
  },
  {
   "cell_type": "markdown",
   "id": "c4114566",
   "metadata": {},
   "source": [
    "# WAP to print pascal's triangle"
   ]
  },
  {
   "cell_type": "code",
   "execution_count": 3,
   "id": "4b4b2929",
   "metadata": {},
   "outputs": [
    {
     "name": "stdout",
     "output_type": "stream",
     "text": [
      "enter the number5\n",
      "      1 \n",
      "     1 1 \n",
      "    1 2 1 \n",
      "   1 3 3 1 \n",
      "  1 4 6 4 1 \n"
     ]
    }
   ],
   "source": [
    "from math import factorial\n",
    "n=int(input(\"enter the number\"))\n",
    "for i in range(n):\n",
    "    for j in range(n-i+1):\n",
    "        print(end=\" \")\n",
    "    for j in range(i+1):\n",
    "            print(factorial(i)//(factorial(j)*factorial(i-j)), end=\" \")\n",
    "    print() \n",
    "                           "
   ]
  },
  {
   "cell_type": "code",
   "execution_count": null,
   "id": "ad38db06",
   "metadata": {},
   "outputs": [],
   "source": [
    "                           "
   ]
  },
  {
   "cell_type": "code",
   "execution_count": null,
   "id": "e8b47fb1",
   "metadata": {},
   "outputs": [],
   "source": []
  },
  {
   "cell_type": "code",
   "execution_count": null,
   "id": "9bc0eeec",
   "metadata": {},
   "outputs": [],
   "source": []
  }
 ],
 "metadata": {
  "kernelspec": {
   "display_name": "Python 3 (ipykernel)",
   "language": "python",
   "name": "python3"
  },
  "language_info": {
   "codemirror_mode": {
    "name": "ipython",
    "version": 3
   },
   "file_extension": ".py",
   "mimetype": "text/x-python",
   "name": "python",
   "nbconvert_exporter": "python",
   "pygments_lexer": "ipython3",
   "version": "3.9.13"
  }
 },
 "nbformat": 4,
 "nbformat_minor": 5
}
